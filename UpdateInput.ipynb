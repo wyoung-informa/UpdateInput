{
 "cells": [
  {
   "cell_type": "code",
   "execution_count": 181,
   "metadata": {},
   "outputs": [],
   "source": [
    "import psycopg2 as p\n",
    "import glob, os, csv"
   ]
  },
  {
   "cell_type": "code",
   "execution_count": 190,
   "metadata": {},
   "outputs": [
    {
     "name": "stdout",
     "output_type": "stream",
     "text": [
      "\\\\informaplc.sharepoint.com@SSL\\DavWWWRoot\\sites\\GAATLFS1\\Shared Documents\\FleetSeek Atlanta\\ETL_updates\\Update_input\\Update_input2020_01_09 14_48_41.csv\n"
     ]
    }
   ],
   "source": [
    "# * means all if need specific format then *.csv\n",
    "list_of_files = glob.glob(r'\\\\informaplc.sharepoint.com@SSL\\DavWWWRoot\\sites\\GAATLFS1\\Shared Documents\\FleetSeek Atlanta\\ETL_updates\\Update_input\\*.csv') \n",
    "# Finds the oldest file in that list to insert\n",
    "oldest_file = min(list_of_files, key=os.path.getctime)\n",
    "\n",
    "print(oldest_csv_file)"
   ]
  },
  {
   "cell_type": "code",
   "execution_count": 184,
   "metadata": {},
   "outputs": [],
   "source": [
    "# This cell writes a tab delimited text file for insertion into the mcmisreview_input table\n",
    "\n",
    "file_base = os.path.splitext(oldest_csv_file)[0]\n",
    "\n",
    "with open(oldest_file, 'r') as fin, open(file_base +'.txt', 'w', newline = '') as fout:\n",
    "    reader = csv.DictReader(fin)\n",
    "    writer = csv.DictWriter(fout, reader.fieldnames, delimiter='\\t', lineterminator = '\\n')\n",
    "    writer.writerows(reader)"
   ]
  },
  {
   "cell_type": "code",
   "execution_count": 185,
   "metadata": {},
   "outputs": [],
   "source": [
    "text_list = glob.glob(r'\\\\informaplc.sharepoint.com@SSL\\DavWWWRoot\\sites\\GAATLFS1\\Shared Documents\\FleetSeek Atlanta\\ETL_updates\\Update_input\\*.txt')\n",
    "newest_txt_file = max(text_list, key=os.path.getctime)\n",
    "print(newest_txt_file)"
   ]
  },
  {
   "cell_type": "code",
   "execution_count": 188,
   "metadata": {},
   "outputs": [],
   "source": [
    "password = 'Evergreen1'\n",
    "\n",
    "conn = p.connect(database = 'postgres', user = 'postgres', password = password, \n",
    "                       host = 'localhost', port = 5433)\n",
    "\n",
    "cur = conn.cursor()"
   ]
  },
  {
   "cell_type": "code",
   "execution_count": 189,
   "metadata": {},
   "outputs": [],
   "source": [
    "with open(newest_txt_file, 'r') as f:\n",
    "    cur.copy_from(f ,'fleetseek.mcmisreview_input', sep = '\\t', null = '')\n",
    "    conn.commit()"
   ]
  }
 ],
 "metadata": {
  "kernelspec": {
   "display_name": "Python 3",
   "language": "python",
   "name": "python3"
  },
  "language_info": {
   "codemirror_mode": {
    "name": "ipython",
    "version": 3
   },
   "file_extension": ".py",
   "mimetype": "text/x-python",
   "name": "python",
   "nbconvert_exporter": "python",
   "pygments_lexer": "ipython3",
   "version": "3.7.4"
  }
 },
 "nbformat": 4,
 "nbformat_minor": 4
}
